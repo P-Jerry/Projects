{
 "metadata": {
  "language_info": {
   "codemirror_mode": {
    "name": "ipython",
    "version": 3
   },
   "file_extension": ".py",
   "mimetype": "text/x-python",
   "name": "python",
   "nbconvert_exporter": "python",
   "pygments_lexer": "ipython3",
   "version": "3.7.4-final"
  },
  "orig_nbformat": 2,
  "kernelspec": {
   "name": "python_defaultSpec_1600952813422",
   "display_name": "Python 3.7.4 64-bit"
  }
 },
 "nbformat": 4,
 "nbformat_minor": 2,
 "cells": [
  {
   "cell_type": "code",
   "execution_count": 8,
   "metadata": {},
   "outputs": [],
   "source": [
    "def ground_shipping(weight):\n",
    "    flat_charge = 7200\n",
    "    if weight < 2:\n",
    "        weight_p = 540\n",
    "    elif weight <= 6:\n",
    "        weight_p = 1080\n",
    "    elif weight <= 10:\n",
    "        weight_p = 1440\n",
    "    elif weight > 10:\n",
    "        weight_p = 1710\n",
    "    cost = weight_p*weight + flat_charge\n",
    "    return(cost) "
   ]
  },
  {
   "cell_type": "code",
   "execution_count": 9,
   "metadata": {},
   "outputs": [
    {
     "output_type": "execute_result",
     "data": {
      "text/plain": "19296.0"
     },
     "metadata": {},
     "execution_count": 9
    }
   ],
   "source": [
    "ground_shipping(8.4)"
   ]
  },
  {
   "cell_type": "code",
   "execution_count": 10,
   "metadata": {},
   "outputs": [],
   "source": [
    "premium_shipping = 45000"
   ]
  },
  {
   "cell_type": "code",
   "execution_count": 11,
   "metadata": {
    "tags": []
   },
   "outputs": [],
   "source": [
    "def drone_shipping(weight):\n",
    "    flat_charge = 0\n",
    "    if weight < 2:\n",
    "        weight_p = 1620\n",
    "    elif weight <= 6:\n",
    "        weight_p = 3240\n",
    "    elif weight <= 10:\n",
    "        weight_p = 4320\n",
    "    elif weight > 10:\n",
    "        weight_p = 5130\n",
    "    cost = weight_p*weight + flat_charge\n",
    "    return(cost) "
   ]
  },
  {
   "cell_type": "code",
   "execution_count": 12,
   "metadata": {},
   "outputs": [
    {
     "output_type": "execute_result",
     "data": {
      "text/plain": "2430.0"
     },
     "metadata": {},
     "execution_count": 12
    }
   ],
   "source": [
    "drone_shipping(1.5)"
   ]
  },
  {
   "cell_type": "code",
   "execution_count": 15,
   "metadata": {},
   "outputs": [],
   "source": [
    "def both_shipping(weight):\n",
    "    ground = ground_shipping(weight)\n",
    "    drone = drone_shipping(weight)\n",
    "    premium = premium_shipping\n",
    "    if ground < drone and ground < premium:\n",
    "        print(\"Use the Ground Shipping method, it costs \", (ground))\n",
    "    elif drone < ground and drone < premium: \n",
    "        print(\"Use the Drone Shipping method it costs \", (drone))\n",
    "    else:\n",
    "        print(\"Use the Premium Shipping method, it costs \", (premium))"
   ]
  },
  {
   "cell_type": "code",
   "execution_count": 18,
   "metadata": {
    "tags": []
   },
   "outputs": [
    {
     "output_type": "stream",
     "name": "stdout",
     "text": "Use the Premium Shipping method, it costs $ 45000\n"
    }
   ],
   "source": [
    "both_shipping(41.5)"
   ]
  },
  {
   "cell_type": "code",
   "execution_count": null,
   "metadata": {},
   "outputs": [],
   "source": []
  },
  {
   "cell_type": "code",
   "execution_count": 19,
   "metadata": {
    "tags": []
   },
   "outputs": [
    {
     "output_type": "stream",
     "name": "stdout",
     "text": "78165.0\n212895.0\n45000\n"
    }
   ],
   "source": [
    "print(ground_shipping(41.5))\n",
    "print(drone_shipping(41.5))\n",
    "print(premium_shipping)"
   ]
  },
  {
   "cell_type": "code",
   "execution_count": null,
   "metadata": {},
   "outputs": [],
   "source": []
  }
 ]
}