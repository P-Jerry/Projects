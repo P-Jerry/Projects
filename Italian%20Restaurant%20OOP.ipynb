{
 "cells": [
  {
   "cell_type": "markdown",
   "metadata": {},
   "source": [
    "## Basta Fazoolin'\n",
    "You’ve started position as the lead programmer for the new Italian restaurant *Basta Fazoolin’* with My Heart in Ikoyi. The restaurant has been doing fantastically and seen a lot of growth lately. You’ve been hired to keep things organized."
   ]
  },
  {
   "cell_type": "markdown",
   "metadata": {},
   "source": [
    "# Making the Menus\n",
    "At *Basta Fazoolin’* with my Heart our motto is simple: when you’re here with family, that’s great! We have four different menus: brunch, early-bird, dinner, and kids.\n",
    "\n",
    "Create a `Menu` class ."
   ]
  },
  {
   "cell_type": "code",
   "execution_count": null,
   "metadata": {},
   "outputs": [],
   "source": [
    "class menu:"
   ]
  },
  {
   "cell_type": "markdown",
   "metadata": {},
   "source": [
    "Give `Menu` a constructor with the five parameters `self`, `name`, `items`, `start_time`, and `end_time`."
   ]
  },
  {
   "cell_type": "code",
   "execution_count": null,
   "metadata": {},
   "outputs": [],
   "source": [
    "    def __init__ (self, name, items, start_time, end_time):\n",
    "        self.name = name\n",
    "        self.items = items\n",
    "        self.start_time = start_time\n",
    "        self.end_time = end_time"
   ]
  },
  {
   "cell_type": "markdown",
   "metadata": {},
   "source": [
    "Let’s create our first menu: `brunch`. Brunch is served from 11am to 4pm. The following items are sold during brunch:\n",
    "\n",
    "`{\n",
    "  'pancakes': 7.50, \n",
    "  'waffles': 9.00, \n",
    "  'burger': 11.00, \n",
    "  'home fries': 4.50, \n",
    "  'coffee': 1.50, \n",
    "  'espresso': 3.00, \n",
    "  'tea': 1.00, \n",
    "  'mimosa': 10.50, \n",
    "  'orange juice': 3.50\n",
    "}`"
   ]
  },
  {
   "cell_type": "code",
   "execution_count": null,
   "metadata": {},
   "outputs": [],
   "source": [
    "brunch = menu(\"Brunch\",{ 'pancakes': 7.50, 'waffles': 9.00, 'burger': 11.00, 'home fries': 4.50, 'coffee': 1.50, 'espresso': 3.00, 'tea': 1.00, 'mimosa': 10.50, 'orange juice': 3.50 },11, 16)"
   ]
  },
  {
   "cell_type": "markdown",
   "metadata": {},
   "source": [
    "Let’s create our second menu item `early_bird`. Early-bird Dinners are served from 3pm to 6pm. The following items are available during the early-bird menu  \n",
    "`\n",
    "{\n",
    "  'salumeria plate': 8.00, \n",
    "  'salad and breadsticks (serves 2, no refills)': 14.00, \n",
    "  'pizza with quattro formaggi': 9.00, \n",
    "  'duck ragu': 17.50, \n",
    "  'mushroom ravioli (vegan)': 13.50, \n",
    "  'coffee': 1.50, \n",
    "  'espresso': 3.00,\n",
    "}`"
   ]
  },
  {
   "cell_type": "code",
   "execution_count": null,
   "metadata": {},
   "outputs": [],
   "source": [
    "early_bird = menu(\"Early_Bird\", { 'salumeria plate': 8.00, 'salad and breadsticks (serves 2, no refills)': 14.00, 'pizza with quattro formaggi': 9.00, 'duck ragu': 17.50, 'mushroom ravioli (vegan)': 13.50, 'coffee': 1.50, 'espresso': 3.00, }, 15, 18)"
   ]
  },
  {
   "cell_type": "markdown",
   "metadata": {},
   "source": [
    "Let’s create our third menu, `dinner`. Dinner is served from 5pm to 11pm. The following items are available for dinner:  \n",
    "`\n",
    "{\n",
    "  'crostini with eggplant caponata': 13.00, \n",
    "  'ceaser salad': 16.00, \n",
    "  'pizza with quattro formaggi': 11.00, \n",
    "  'duck ragu': 19.50, \n",
    "  'mushroom ravioli (vegan)': 13.50, \n",
    "  'coffee': 2.00, \n",
    "  'espresso': 3.00,\n",
    "}`\n"
   ]
  },
  {
   "cell_type": "code",
   "execution_count": null,
   "metadata": {},
   "outputs": [],
   "source": [
    "dinner = menu(\"Dinner\", { 'crostini with eggplant caponata': 13.00, 'ceaser salad': 16.00, 'pizza with quattro formaggi': 11.00, 'duck ragu': 19.50, 'mushroom ravioli (vegan)': 13.50, 'coffee': 2.00, 'espresso': 3.00, },17,23)"
   ]
  },
  {
   "cell_type": "markdown",
   "metadata": {},
   "source": [
    "And let’s create our last menu, `kids`. The kids menu is available from 11am until 9pm. The following items are available on the kids menu.\n",
    "\n",
    "`{\n",
    "  'chicken nuggets': 6.50, \n",
    "  'fusilli with wild mushrooms': 12.00, \n",
    "  'apple juice': 3.00\n",
    "}`"
   ]
  },
  {
   "cell_type": "code",
   "execution_count": null,
   "metadata": {},
   "outputs": [],
   "source": [
    "kids = menu(\"Kids\", { 'chicken nuggets': 6.50, 'fusilli with wild mushrooms': 12.00, 'apple juice': 3.00 },11,21)"
   ]
  },
  {
   "cell_type": "markdown",
   "metadata": {},
   "source": [
    "\n",
    "Give our `Menu` class a string representation method that will tell you the `name` of the menu. Also, indicate in this representation when the menu is available."
   ]
  },
  {
   "cell_type": "code",
   "execution_count": null,
   "metadata": {},
   "outputs": [],
   "source": [
    " def __repr__(self):\n",
    "    return f\"{self.name} menu available from {self.start_time} to {self.end_time}\""
   ]
  },
  {
   "cell_type": "markdown",
   "metadata": {},
   "source": [
    "Try out our string representation. If you call `print(brunch)` it should print out something like the following:\n",
    "\n",
    "**`brunch menu available from 11am to 4pm`**"
   ]
  },
  {
   "cell_type": "code",
   "execution_count": null,
   "metadata": {},
   "outputs": [],
   "source": [
    "print(brunch)"
   ]
  },
  {
   "cell_type": "markdown",
   "metadata": {},
   "source": [
    "Give `Menu` a method `.calculate_bill()` that has two parameters: `self`, and `purchased_items`, a list of the names of purchased items.\n",
    "\n",
    "Have `calculate_bill` return the total price of a purchase consisiting of all the items in `purchased_items`."
   ]
  },
  {
   "cell_type": "code",
   "execution_count": null,
   "metadata": {},
   "outputs": [],
   "source": [
    "def calculate_bills(self,purchased_items):\n",
    "    self.purchased_items = purchased_items\n",
    "    bills = []\n",
    "    for item in purchased_items:\n",
    "      for key,value in self.items.items():\n",
    "        if item == key:\n",
    "          bills.append(value)\n",
    "    return sum(bills)"
   ]
  },
  {
   "cell_type": "markdown",
   "metadata": {},
   "source": [
    "Test out `Menu.calculate_bill()`. We have a breakfast order for one order of pancakes, one order of home fries, and one coffee. Pass that into `brunch.calculate_bill(`) and print out the price."
   ]
  },
  {
   "cell_type": "code",
   "execution_count": null,
   "metadata": {},
   "outputs": [],
   "source": [
    "print(brunch.calculate_bills(['pancakes','ome fries','coffee']))"
   ]
  },
  {
   "cell_type": "markdown",
   "metadata": {},
   "source": [
    "What about an early-bird purchase? Our last guests ordered the salumeria plate and the vegan mushroom ravioli. Calculate the bill with `.caluclate_bill()`."
   ]
  },
  {
   "cell_type": "code",
   "execution_count": null,
   "metadata": {},
   "outputs": [],
   "source": [
    "print(early_bird.calculate_bills(['salumeria plate','mushroom ravioli (vegan)']))"
   ]
  },
  {
   "cell_type": "markdown",
   "metadata": {},
   "source": [
    "## Creating the Franchises"
   ]
  },
  {
   "cell_type": "markdown",
   "metadata": {},
   "source": [
    "*Basta Fazoolin’* with my Heart has seen tremendous success with the family market, which is fantastic because when you’re at *Basta Fazoolin’* with my Heart with family, that’s great!\n",
    "\n",
    "We’ve decided to create more than one restaurant to offer our fantastic menus, services, and ambience around the country.\n",
    "\n",
    "First, let’s create a `Franchise` class"
   ]
  },
  {
   "cell_type": "code",
   "execution_count": null,
   "metadata": {},
   "outputs": [],
   "source": [
    "class Franchise:"
   ]
  },
  {
   "cell_type": "markdown",
   "metadata": {},
   "source": [
    "Give the `Franchise` class a constructor. Take in an `address`, and assign it to `self.address`. Also take in a list of menus and assign it to `self.menus`"
   ]
  },
  {
   "cell_type": "code",
   "execution_count": null,
   "metadata": {},
   "outputs": [],
   "source": [
    "def __init__ (self, address, menus):\n",
    "    self.address = address\n",
    "    self.menus = menus"
   ]
  },
  {
   "cell_type": "markdown",
   "metadata": {},
   "source": [
    "Let’s create our first two franchises! Our flagship store is located at `\"1232 West End Bourdillon Street\"` and our new installment is located at `\"12 Mulberry Street Banana Island\"`. Pass in all four menus along with these addresses to define `flagship_store` and `new_installment`"
   ]
  },
  {
   "cell_type": "code",
   "execution_count": null,
   "metadata": {},
   "outputs": [],
   "source": [
    "flagship_store = Franchise(\"1232 West End Bourdillon Street\",[brunch,early_bird,dinner,kids])\n",
    "new_installment = Franchise(\"12 East Mulberry Street Banana Island\",[brunch,early_bird,dinner,kids])"
   ]
  },
  {
   "cell_type": "markdown",
   "metadata": {},
   "source": [
    "Give our `Franchise`s a string represenation so that we’ll be able to tell them apart. If we print out a `Franchise` it should tell us the address of the restaurant."
   ]
  },
  {
   "cell_type": "code",
   "execution_count": null,
   "metadata": {},
   "outputs": [],
   "source": [
    "def __repr__(self):\n",
    "    return f\"Our store is located at {self.address}.\""
   ]
  },
  {
   "cell_type": "markdown",
   "metadata": {},
   "source": [
    "Let’s tell our customers what they can order! Give `Franchise` an `.available_menus()` method that takes in a `time` parameter and returns a list of the `Menu` objects that are available at that time."
   ]
  },
  {
   "cell_type": "code",
   "execution_count": null,
   "metadata": {},
   "outputs": [],
   "source": [
    "def available_menus(self,time):\n",
    "    self.time = time\n",
    "    list_menu= []\n",
    "    for menu in self.menus:\n",
    "        if time >= menu.start_time and time <= menu.end_time:\n",
    "          for keys in menu.items:\n",
    "            list_menu.append(keys)\n",
    "    print (list_menu)"
   ]
  },
  {
   "cell_type": "markdown",
   "metadata": {},
   "source": [
    "Let’s test out our `.available_menus()` method! Call it with 12 noon as an argument and print out the results."
   ]
  },
  {
   "cell_type": "code",
   "execution_count": null,
   "metadata": {},
   "outputs": [],
   "source": [
    "print(flagship_store)\n",
    "flagship_store.available_menus(12)"
   ]
  },
  {
   "cell_type": "markdown",
   "metadata": {},
   "source": [
    "Let’s do another test! If we call `.available_menus()` with 5pm as an argument and print out the results."
   ]
  },
  {
   "cell_type": "code",
   "execution_count": null,
   "metadata": {},
   "outputs": [],
   "source": [
    "flagship_store.available_menus(17)"
   ]
  },
  {
   "cell_type": "markdown",
   "metadata": {},
   "source": [
    "Since we’ve been so successful building out a branded chain of restaurants, we’ve decided to diversify. We’re going to create a restaurant that sells arepas!\n",
    "\n",
    "First let’s define a `Business` class."
   ]
  },
  {
   "cell_type": "code",
   "execution_count": null,
   "metadata": {},
   "outputs": [],
   "source": [
    "class Business:"
   ]
  },
  {
   "cell_type": "markdown",
   "metadata": {},
   "source": [
    "Give `Business` a constructor. A `Business` needs a `name` and a list of `franchises`."
   ]
  },
  {
   "cell_type": "code",
   "execution_count": null,
   "metadata": {},
   "outputs": [],
   "source": [
    "def __init__ (self,name,franchises):\n",
    "    self.name = name\n",
    "    self.franchises = franchises"
   ]
  },
  {
   "cell_type": "markdown",
   "metadata": {},
   "source": [
    "Let’s create our first `Business`. The name is `\"Basta Fazoolin' with my Heart\"` and the two franchises are `flagship_store` and `new_installment`."
   ]
  },
  {
   "cell_type": "code",
   "execution_count": null,
   "metadata": {},
   "outputs": [],
   "source": [
    "business1 = Business(\"Basta Fazoolin' with my Heart\",[flagship_store, new_installment])"
   ]
  },
  {
   "cell_type": "markdown",
   "metadata": {},
   "source": [
    "Before we create our new business, we’ll need a `Franchise` and before our `Franchise` we’ll need a menu. The items for our *Take a’ Arepa* available from 10am until 8pm are the following:  ` {\n",
    "  'arepa pabellon': 7.00, \n",
    "  'pernil arepa': 8.50, \n",
    "  'guayanes arepa': 8.00, \n",
    "  'jamon arepa': 7.50\n",
    "}`\n",
    "\n",
    "Save this to a variable called `arepas_menu`."
   ]
  },
  {
   "cell_type": "code",
   "execution_count": null,
   "metadata": {},
   "outputs": [],
   "source": [
    "arepas_menus = menu(\"Take a' Arepa\", { 'arepa pabellon': 7.00, 'pernil arepa': 8.50, 'guayanes arepa': 8.00, 'jamon arepa': 7.50 },10,20)"
   ]
  },
  {
   "cell_type": "markdown",
   "metadata": {},
   "source": [
    "Next let’s create our first Take a’ Arepa franchise! Our new restaurant is located at `\"189 Fitzgerald Avenue\"`. Save the `Franchise` object to a variable called `arepas_place`."
   ]
  },
  {
   "cell_type": "code",
   "execution_count": null,
   "metadata": {},
   "outputs": [],
   "source": [
    "arepas_place = Franchise(\"189 Fitzgerald Avenue\",[arepas_menu])"
   ]
  },
  {
   "cell_type": "markdown",
   "metadata": {},
   "source": [
    "Now let’s make our new Business! The business is called `\"Take a' Arepa\"`!"
   ]
  },
  {
   "cell_type": "code",
   "execution_count": null,
   "metadata": {},
   "outputs": [],
   "source": [
    "new_business = Business(\"Take a' Arepa\", arepas_place)"
   ]
  },
  {
   "cell_type": "markdown",
   "metadata": {},
   "source": [
    "Congrats! You created a system of classes that help structure your code and perform all business requirements you need. Whenever we need a new feature we’ll have the well-organized code required to make developing and shipping it easy."
   ]
  },
  {
   "cell_type": "code",
   "execution_count": null,
   "metadata": {},
   "outputs": [],
   "source": []
  }
 ],
 "metadata": {
  "kernelspec": {
   "name": "Python 3.7.4 64-bit",
   "display_name": "Python 3.7.4 64-bit",
   "metadata": {
    "interpreter": {
     "hash": "7945e9a82d7512fbf96246d9bbc29cd2f106c1a4a9cf54c9563dadf10f2237d4"
    }
   }
  },
  "language_info": {
   "codemirror_mode": {
    "name": "ipython",
    "version": 3
   },
   "file_extension": ".py",
   "mimetype": "text/x-python",
   "name": "python",
   "nbconvert_exporter": "python",
   "pygments_lexer": "ipython3",
   "version": "3.7.4-final"
  }
 },
 "nbformat": 4,
 "nbformat_minor": 4
}